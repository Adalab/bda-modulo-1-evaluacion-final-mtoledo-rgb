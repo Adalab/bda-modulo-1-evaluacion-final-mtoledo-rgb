{
 "cells": [
  {
   "cell_type": "markdown",
   "metadata": {},
   "source": [
    "#TiendaOnline\n",
    "    \"ATRIBUTOS\"\n",
    "    #inventario(diccionario con: nombre, precio y cantidad; debe empezar como LISTA VACÍA)\n",
    "    #clientes(diccionario con: nombre e email; DICCIONARIO VACÍO; deberá tener un registro de compras)\n",
    "    #ventas_totales(float: registro de las ventas totales. INICIA EN 0)\n",
    "    \n",
    "    \"MÉTODOS\"\n",
    "    #agregar_producto(sefl, nombre, precio y cantidad)\n",
    "        #AGREGA producto\n",
    "        #ACTUALIZA su cantidad si el producto ya existe\n",
    "        #ITERA por el inventario y compara NOMBRE con los datos proporcionados\n",
    "            #si el producto existe -> ACTUALIZA CANTIDAD\n",
    "            # si el producto no exite -> AGREGA NUEVO PRODUCTO\n",
    "    #ver_inventario(self)\n",
    "        #MUESTRA el inventerio de producto con sus detalles\n",
    "        # BUBLE FOR para iterar por INVENTARIO\n",
    "        # PRINT detalles (nombre, precio, cantidad)\n",
    "    #buscar_producto(self, nombre)\n",
    "        #muestra inventario por NOMBRE y muestra sus detalles\n",
    "        #DEBE RECIBIR EL NOMBRE DEL PRODUCTO COMO PARÁMETRO \n",
    "        #BUCLE FOR para iterar por INVENTARIO\n",
    "        #compara nombre del producto con el proporcionado\n",
    "        #if producto in invetario = print detalles\n",
    "    #actualizar_stock(self,nombre,cantidad)\n",
    "        #ACTUALIZA el stock de un producto\n",
    "        #DEBE recibir NOMBRE DE PRODUCTO y CANTIDAD a agregar o quitar COMO PARÁMETROS\n",
    "        #BUCLE FOR para iterar por inventario\n",
    "        #Buscar NOMBRE\n",
    "        #Actualizar CANTIDAD según ENTRADA DE USUARIO\n",
    "        #Si el producto no está: MOSTRAR MENSAJE\n",
    "    #eliminar_producto(self,nombre)\n",
    "        #Elimina un producto del inventario por NOMBRE\n",
    "        #BUCLE FOR para iterar por inventario\n",
    "        #Buscar NOMBRE\n",
    "        #ELIMINAR prodcuto si existe\n",
    "        #else: mensaje \n",
    "    #calcular_valor_inventario(self)\n",
    "        #Calcula y muestra el VALOR TOTAL\n",
    "        #BUCLE FOR para calcular el valor total \n",
    "        #Iterar a través del inventario y SUMAR EL VALOR DE CADA PRODUCTO (precioXcantidad)\n",
    "    #realizar_compra(self):\n",
    "        #El cliente puede realizar una comprar seleccionando productos del inventario\n",
    "        #SE DEBE INTERACTUAR CON CLIENTE para SELECCIONAR productos y CALCULAR el costo total de compra\n",
    "        #BUCLE WHILE para permitir MULTIPLES COMPRAS\n",
    "            #if input(quieres seguir comprando)\n",
    "                #print productos y precios\n",
    "                #input elige el producto\n",
    "                #input elige una cantidad\n",
    "                #añadir productos al carrito + actualizar inventario\n",
    "            #else: break\n",
    "        #calcular costo total de la compra\n",
    "\n"
   ]
  },
  {
   "cell_type": "code",
   "execution_count": null,
   "metadata": {},
   "outputs": [],
   "source": [
    "#TiendaOnline\n",
    "    \"ATRIBUTOS\"\n",
    "    #inventario(diccionario con: nombre, precio y cantidad; debe empezar como LISTA VACÍA)\n",
    "    #clientes(diccionario con: nombre e email; DICCIONARIO VACÍO; deberá tener un registro de compras)\n",
    "    #ventas_totales(float: registro de las ventas totales. INICIA EN 0)"
   ]
  },
  {
   "cell_type": "code",
   "execution_count": 1,
   "metadata": {},
   "outputs": [],
   "source": [
    "class TiendaOnline:\n",
    "    pass"
   ]
  },
  {
   "cell_type": "code",
   "execution_count": 2,
   "metadata": {},
   "outputs": [],
   "source": [
    "class TiendaOnline:\n",
    "    \n",
    "    def __init__(self):\n",
    "        self.inventario = []\n",
    "        self.clientes = {}\n",
    "        self.ventas_totales = 0\n",
    "    \n",
    "#Agregar productos al inventario y actualizar la cantidad de stock   \n",
    "    def agregar_producto(self, nombre, precio, cantidad):   #la complicación de esta función es la de comunicarse directamente con los items dentro de los diccionarios que componen la lista.\n",
    "        for n in self.inventario:\n",
    "            if n['Nombre'] == nombre:     #si el nombre del producto aparece en inventario \n",
    "                n['Cantidad'] = cantidad  #lo dejamos y solo se modifica la cantidad (también se podría hacer una variable similar para el precio si nos interesara modificar ese parámetro tamnbién)\n",
    "                return self.inventario\n",
    "        self.inventario.append({'Nombre':nombre,'Precio':precio,'Cantidad':cantidad})  #apend porque, aunque estemos modificando un diccionario, estamos interactuando con una lista\n",
    "        return self.inventario\n",
    "\n",
    "#Ver el inventario o ver si el inventario está vacío  \n",
    "    def ver_inventario(self):\n",
    "        if not self.inventario:   #si el inventario no se ha creado, imprimirá un mensaje que indique que está vacío\n",
    "            print(\"El inventario está vacío\")\n",
    "        else:\n",
    "            for producto in self.inventario:\n",
    "                print(producto)\n",
    "\n",
    "#Buscar 'producto' por 'nombre' dentro del inventario\n",
    "    def buscar_producto_n(self,nombre):\n",
    "        for producto in self.inventario:\n",
    "            if nombre.lower() == producto['Nombre'].lower():   #si el nombre que se busca está en el inventario, se imprimirá el producto con todos sus detalles. \n",
    "                                                                #Es decir, esta condición solo se cumple si 'nombre' coincide con algunos de los productos -\"nombres\" en el diccionario- coincide con la entrada\n",
    "                return producto \n",
    "        else:\n",
    "            print('El producto no existe')\n",
    "\n",
    "#Eliminar productos del inventario\n",
    "    def eliminar_producto(self,nombre):\n",
    "        for producto in self.inventario:\n",
    "            if nombre.lower() == producto['Nombre'].lower():    #se utiliza el mismo bucle usado para buscar un producto\n",
    "                self.inventario.remove(producto)                #salvo que en esta ocasión se le añade la instrucción de eleminar dicho producto y el diccionario que lo contenía\n",
    "                print(f'Se ha eliminado el producto {nombre}')    \n",
    "            else:\n",
    "                print('No encontramos el producto que quiere eliminar')   #sigo sin entender por qué imprime esto, seguiremos aprendiendo\n",
    "\n",
    "#vamos a probar un actualizar inventario con input\n",
    "    def actualizar_inventario(self, nombre, cantidad=None):   \n",
    "        for a in self.inventario:\n",
    "            if a['Nombre'].lower == nombre.lower():    #lower en ambos lados iguala las respuestas \n",
    "                cantidad = int(input(f'¿Cuántas unidad desde {nombre} quieres?'))  #el input no se ejecuta \n",
    "                a['Cantidad'] = max(a['Cantidad'] - cantidad, 0)   #la función max es una forma elegante de asegurar que la cantidad nunca estará en negativo. \n",
    "                                                                   #Bueno, en este caso es el 0 al final del arguemto lo que indica que no puede bajar de esa cantidad. \n",
    "                                                                    #Aunque el usuario eligiera un número más alto que las unidades en stock, éstas no bajarían de 0 \n",
    "                print(f'El inventario de {nombre} ha sido actualizado, queda un total de {cantidad} unidad(es)')\n",
    "                "
   ]
  },
  {
   "cell_type": "code",
   "execution_count": 3,
   "metadata": {},
   "outputs": [
    {
     "data": {
      "text/plain": [
       "__main__.TiendaOnline"
      ]
     },
     "execution_count": 3,
     "metadata": {},
     "output_type": "execute_result"
    }
   ],
   "source": [
    "TiendaOnline"
   ]
  },
  {
   "cell_type": "code",
   "execution_count": 4,
   "metadata": {},
   "outputs": [],
   "source": [
    "gatos_galacticos = TiendaOnline()"
   ]
  },
  {
   "cell_type": "code",
   "execution_count": 5,
   "metadata": {},
   "outputs": [
    {
     "name": "stdout",
     "output_type": "stream",
     "text": [
      "El inventario está vacío\n"
     ]
    }
   ],
   "source": [
    "gatos_galacticos.ver_inventario()"
   ]
  },
  {
   "cell_type": "code",
   "execution_count": 6,
   "metadata": {},
   "outputs": [
    {
     "data": {
      "text/plain": [
       "[{'Nombre': 'Pienso', 'Precio': 1, 'Cantidad': 3}]"
      ]
     },
     "execution_count": 6,
     "metadata": {},
     "output_type": "execute_result"
    }
   ],
   "source": [
    "gatos_galacticos.agregar_producto('Pienso',1,3)"
   ]
  },
  {
   "cell_type": "code",
   "execution_count": 7,
   "metadata": {},
   "outputs": [
    {
     "name": "stdout",
     "output_type": "stream",
     "text": [
      "{'Nombre': 'Pienso', 'Precio': 1, 'Cantidad': 3}\n"
     ]
    }
   ],
   "source": [
    "gatos_galacticos.ver_inventario()"
   ]
  },
  {
   "cell_type": "code",
   "execution_count": 8,
   "metadata": {},
   "outputs": [
    {
     "data": {
      "text/plain": [
       "[{'Nombre': 'Pienso', 'Precio': 1, 'Cantidad': 3}]"
      ]
     },
     "execution_count": 8,
     "metadata": {},
     "output_type": "execute_result"
    }
   ],
   "source": [
    "gatos_galacticos.inventario\n"
   ]
  },
  {
   "cell_type": "code",
   "execution_count": 9,
   "metadata": {},
   "outputs": [
    {
     "name": "stdout",
     "output_type": "stream",
     "text": [
      "El producto no existe\n"
     ]
    }
   ],
   "source": [
    "gatos_galacticos.buscar_producto_n('Tierra')"
   ]
  },
  {
   "cell_type": "code",
   "execution_count": 10,
   "metadata": {},
   "outputs": [
    {
     "data": {
      "text/plain": [
       "{'Nombre': 'Pienso', 'Precio': 1, 'Cantidad': 3}"
      ]
     },
     "execution_count": 10,
     "metadata": {},
     "output_type": "execute_result"
    }
   ],
   "source": [
    "gatos_galacticos.buscar_producto_n('Pienso')"
   ]
  },
  {
   "cell_type": "code",
   "execution_count": 11,
   "metadata": {},
   "outputs": [
    {
     "data": {
      "text/plain": [
       "[{'Nombre': 'Pienso', 'Precio': 1, 'Cantidad': 5}]"
      ]
     },
     "execution_count": 11,
     "metadata": {},
     "output_type": "execute_result"
    }
   ],
   "source": [
    "gatos_galacticos.agregar_producto('Pienso',1,5)"
   ]
  },
  {
   "cell_type": "code",
   "execution_count": 12,
   "metadata": {},
   "outputs": [
    {
     "data": {
      "text/plain": [
       "[{'Nombre': 'Pienso', 'Precio': 1, 'Cantidad': 5},\n",
       " {'Nombre': 'Arena', 'Precio': 5, 'Cantidad': 10}]"
      ]
     },
     "execution_count": 12,
     "metadata": {},
     "output_type": "execute_result"
    }
   ],
   "source": [
    "gatos_galacticos.agregar_producto('Arena',5,10)"
   ]
  },
  {
   "cell_type": "code",
   "execution_count": 13,
   "metadata": {},
   "outputs": [
    {
     "name": "stdout",
     "output_type": "stream",
     "text": [
      "No encontramos el producto que quiere eliminar\n",
      "Se ha eliminado el producto Arena\n"
     ]
    }
   ],
   "source": [
    "gatos_galacticos.eliminar_producto('Arena')"
   ]
  },
  {
   "cell_type": "code",
   "execution_count": 14,
   "metadata": {},
   "outputs": [
    {
     "data": {
      "text/plain": [
       "[{'Nombre': 'Pienso', 'Precio': 1, 'Cantidad': 5},\n",
       " {'Nombre': 'Juguete', 'Precio': 10, 'Cantidad': 3}]"
      ]
     },
     "execution_count": 14,
     "metadata": {},
     "output_type": "execute_result"
    }
   ],
   "source": [
    "gatos_galacticos.agregar_producto('Juguete',10,3)"
   ]
  },
  {
   "cell_type": "code",
   "execution_count": 15,
   "metadata": {},
   "outputs": [],
   "source": [
    "gatos_galacticos.actualizar_inventario('pienso')"
   ]
  },
  {
   "cell_type": "code",
   "execution_count": 16,
   "metadata": {},
   "outputs": [
    {
     "ename": "SyntaxError",
     "evalue": "invalid syntax (3003607799.py, line 1)",
     "output_type": "error",
     "traceback": [
      "\u001b[0;36m  Cell \u001b[0;32mIn[16], line 1\u001b[0;36m\u001b[0m\n\u001b[0;31m    La Carra\u001b[0m\n\u001b[0m       ^\u001b[0m\n\u001b[0;31mSyntaxError\u001b[0m\u001b[0;31m:\u001b[0m invalid syntax\n"
     ]
    }
   ],
   "source": [
    "La Carra"
   ]
  },
  {
   "cell_type": "code",
   "execution_count": 26,
   "metadata": {},
   "outputs": [],
   "source": [
    "    #agregar_producto(sefl, nombre, precio y cantidad)\n",
    "        #AGREGA producto\n",
    "        #ACTUALIZA su cantidad si el producto ya existe\n",
    "        #ITERA por el inventario y compara NOMBRE con los datos proporcionados\n",
    "            #si el producto existe -> ACTUALIZA CANTIDAD\n",
    "            # si el producto no exite -> AGREGA NUEVO PRODUCTO"
   ]
  },
  {
   "cell_type": "code",
   "execution_count": 27,
   "metadata": {},
   "outputs": [],
   "source": [
    "def agregar_producto(self, nombre, precio, cantidad):\n",
    "    \n",
    "    #si el inventario está vacío, se convierte en diccionario\n",
    "    if not self.inventario:\n",
    "        self.inventario = {}\n",
    "        if nombre in self.inventario:\n",
    "            print(f'El producto {nombre} ya existe en el inventario')\n",
    "            self.inventario.update()\n",
    "        else:\n",
    "            print(f'El producto {nombre} se ha actualizado')\n",
    "\n"
   ]
  },
  {
   "cell_type": "code",
   "execution_count": 28,
   "metadata": {},
   "outputs": [],
   "source": [
    "#ver_inventario(self)\n",
    "        #MUESTRA el inventerio de producto con sus detalles\n",
    "        # BUBLE FOR para iterar por INVENTARIO\n",
    "        # PRINT detalles (nombre, precio, cantidad)"
   ]
  },
  {
   "cell_type": "code",
   "execution_count": 29,
   "metadata": {},
   "outputs": [],
   "source": [
    "def ver_inventario(self):\n",
    "    if not self.inventario:\n",
    "        print('El inventario está vacío')\n",
    "    else:\n",
    "        for x in self.inventario:\n",
    "            print(self.inventario)"
   ]
  },
  {
   "cell_type": "code",
   "execution_count": 30,
   "metadata": {},
   "outputs": [],
   "source": [
    "#buscar_producto(self, nombre)\n",
    "        #muestra inventario por NOMBRE y muestra sus detalles\n",
    "        #DEBE RECIBIR EL NOMBRE DEL PRODUCTO COMO PARÁMETRO \n",
    "        #BUCLE FOR para iterar por INVENTARIO\n",
    "        #compara nombre del producto con el proporcionado\n",
    "        #if producto in invetario = print detalles"
   ]
  },
  {
   "cell_type": "code",
   "execution_count": 31,
   "metadata": {},
   "outputs": [],
   "source": [
    "def buscar_producto(self,nombre):\n",
    "    for nombre in self.inventario:\n",
    "        nombre_producto == nombre \n",
    "        inventario[nombre] ={\n",
    "            'Nombre':nombre,\n",
    "            'Precio':precio,\n",
    "            'Cantidad': cantidad,\n",
    "        }"
   ]
  },
  {
   "cell_type": "code",
   "execution_count": null,
   "metadata": {},
   "outputs": [],
   "source": [
    "#actualizar_stock(self,nombre,cantidad)\n",
    "        #ACTUALIZA el stock de un producto\n",
    "        #DEBE recibir NOMBRE DE PRODUCTO y CANTIDAD a agregar o quitar COMO PARÁMETROS\n",
    "        #BUCLE FOR para iterar por inventario\n",
    "        #Buscar NOMBRE\n",
    "        #Actualizar CANTIDAD según ENTRADA DE USUARIO\n",
    "        #Si el producto no está: MOSTRAR MENSAJE"
   ]
  },
  {
   "cell_type": "code",
   "execution_count": null,
   "metadata": {},
   "outputs": [],
   "source": [
    "def actualizar_stock(self,nombre,cantidad):\n",
    "    for nombre in self.inventario:\n",
    "        "
   ]
  },
  {
   "cell_type": "code",
   "execution_count": null,
   "metadata": {},
   "outputs": [],
   "source": [
    " def ver_inventario(self): #pdt\n",
    "        for inventario in self.inventario:\n",
    "            if inventario not in self.inventario:\n",
    "                print('El inventario está vacío')\n",
    "            else:\n",
    "                print(inventario)"
   ]
  },
  {
   "cell_type": "code",
   "execution_count": null,
   "metadata": {},
   "outputs": [],
   "source": [
    "def buscar_producto(self,nombre):\n",
    "        print(f'El inventario actual es {self.inventario}')\n",
    "        for p in self.inventario:\n",
    "            if p['Nombre'] == nombre:\n",
    "                print(f\"Producto encontrado: {p['Nombre']}, Precio: {p['Precio']}, Cantidad: {p['Cantidad']}\")\n",
    "        print(f'El producto {p} no existe')"
   ]
  },
  {
   "cell_type": "code",
   "execution_count": null,
   "metadata": {},
   "outputs": [],
   "source": [
    "def buscar_producto(self,nombre):  #ninguno de los prints funciona, pero devuelve el inventario actualizado del producto buscado. \n",
    "        print(f'El inventario actual es: {self.inventario}')\n",
    "        for p in self.inventario:\n",
    "                if p['Nombre'] == nombre:\n",
    "                    print(f\"Producto encontrado: {p['Nombre']}, Precio: {p['Precio']}, Cantidad: {p['Cantidad']}\")\n",
    "        print(f'El producto {p} no existe')"
   ]
  }
 ],
 "metadata": {
  "kernelspec": {
   "display_name": "Python 3",
   "language": "python",
   "name": "python3"
  },
  "language_info": {
   "codemirror_mode": {
    "name": "ipython",
    "version": 3
   },
   "file_extension": ".py",
   "mimetype": "text/x-python",
   "name": "python",
   "nbconvert_exporter": "python",
   "pygments_lexer": "ipython3",
   "version": "3.9.6"
  }
 },
 "nbformat": 4,
 "nbformat_minor": 2
}
