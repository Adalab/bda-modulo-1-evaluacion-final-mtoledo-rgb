{
 "cells": [
  {
   "cell_type": "markdown",
   "metadata": {},
   "source": [
    "#TiendaOnline\n",
    "    \"ATRIBUTOS\"\n",
    "    #inventario(diccionario con: nombre, precio y cantidad; debe empezar como LISTA VACÍA)\n",
    "    #clientes(diccionario con: nombre e email; DICCIONARIO VACÍO; deberá tener un registro de compras)\n",
    "    #ventas_totales(float: registro de las ventas totales. INICIA EN 0)\n",
    "    \n",
    "    \"MÉTODOS\"\n",
    "    #agregar_producto(sefl, nombre, precio y cantidad)\n",
    "        #AGREGA producto\n",
    "        #ACTUALIZA su cantidad si el producto ya existe\n",
    "        #ITERA por el inventario y compara NOMBRE con los datos proporcionados\n",
    "            #si el producto existe -> ACTUALIZA CANTIDAD\n",
    "            # si el producto no exite -> AGREGA NUEVO PRODUCTO\n",
    "    #ver_inventario(self)\n",
    "        #MUESTRA el inventerio de producto con sus detalles\n",
    "        # BUBLE FOR para iterar por INVENTARIO\n",
    "        # PRINT detalles (nombre, precio, cantidad)\n",
    "    #buscar_producto(self, nombre)\n",
    "        #muestra inventario por NOMBRE y muestra sus detalles\n",
    "        #DEBE RECIBIR EL NOMBRE DEL PRODUCTO COMO PARÁMETRO \n",
    "        #BUCLE FOR para iterar por INVENTARIO\n",
    "        #compara nombre del producto con el proporcionado\n",
    "        #if producto in invetario = print detalles\n",
    "    #actualizar_stock(self,nombre,cantidad)\n",
    "        #ACTUALIZA el stock de un producto\n",
    "        #DEBE recibir NOMBRE DE PRODUCTO y CANTIDAD a agregar o quitar COMO PARÁMETROS\n",
    "        #BUCLE FOR para iterar por inventario\n",
    "        #Buscar NOMBRE\n",
    "        #Actualizar CANTIDAD según ENTRADA DE USUARIO\n",
    "        #Si el producto no está: MOSTRAR MENSAJE\n",
    "    #eliminar_producto(self,nombre)\n",
    "        #Elimina un producto del inventario por NOMBRE\n",
    "        #BUCLE FOR para iterar por inventario\n",
    "        #Buscar NOMBRE\n",
    "        #ELIMINAR prodcuto si existe\n",
    "        #else: mensaje \n",
    "    #calcular_valor_inventario(self)\n",
    "        #Calcula y muestra el VALOR TOTAL\n",
    "        #BUCLE FOR para calcular el valor total \n",
    "        #Iterar a través del inventario y SUMAR EL VALOR DE CADA PRODUCTO (precioXcantidad)\n",
    "    #realizar_compra(self):\n",
    "        #El cliente puede realizar una comprar seleccionando productos del inventario\n",
    "        #SE DEBE INTERACTUAR CON CLIENTE para SELECCIONAR productos y CALCULAR el costo total de compra\n",
    "        #BUCLE WHILE para permitir MULTIPLES COMPRAS\n",
    "            #if input(quieres seguir comprando)\n",
    "                #print productos y precios\n",
    "                #input elige el producto\n",
    "                #input elige una cantidad\n",
    "                #añadir productos al carrito + actualizar inventario\n",
    "            #else: break\n",
    "        #calcular costo total de la compra\n",
    "\n"
   ]
  },
  {
   "cell_type": "code",
   "execution_count": null,
   "metadata": {},
   "outputs": [],
   "source": [
    "#TiendaOnline\n",
    "    \"ATRIBUTOS\"\n",
    "    #inventario(diccionario con: nombre, precio y cantidad; debe empezar como LISTA VACÍA)\n",
    "    #clientes(diccionario con: nombre e email; DICCIONARIO VACÍO; deberá tener un registro de compras)\n",
    "    #ventas_totales(float: registro de las ventas totales. INICIA EN 0)"
   ]
  },
  {
   "cell_type": "code",
   "execution_count": 2,
   "metadata": {},
   "outputs": [],
   "source": [
    "class TiendaOnline:\n",
    "    pass"
   ]
  },
  {
   "cell_type": "code",
   "execution_count": 32,
   "metadata": {},
   "outputs": [],
   "source": [
    "class TiendaOnline:\n",
    "    \n",
    "    def __init__(self):\n",
    "        self.inventario = []\n",
    "        self.clientes = {}\n",
    "        self.ventas_totales = 0\n",
    "    \n",
    "    \n",
    "    def agregar_producto(self, nombre, precio, cantidad):\n",
    "        for n in self.inventario:\n",
    "            if n['Nombre'] == nombre:\n",
    "                n['Cantidad'] = cantidad\n",
    "                return self.inventario\n",
    "        self.inventario.append({'Nombre':nombre,'Precio':precio,'Cantidad':cantidad})\n",
    "        return self.inventario\n",
    "    \n",
    "    def ver_inventario(self): #pdt\n",
    "        for inventario in self.inventario:\n",
    "            if inventario not in self.inventario:\n",
    "                print('El inventario está vacío')\n",
    "            else:\n",
    "                print(inventario)\n",
    "    \n",
    "    def buscar_producto(self,nombre):\n",
    "        for p in self.inventario:\n",
    "            if p['Nombre'] == nombre:\n",
    "                return {\n",
    "                    'Nombre': p['Nombre'],\n",
    "                    'Precio': p['Precio'],\n",
    "                    'Cantidad': p['Cantidad'],\n",
    "                }\n",
    "\n",
    "            \n",
    "\n",
    "                \n",
    "    "
   ]
  },
  {
   "cell_type": "code",
   "execution_count": null,
   "metadata": {},
   "outputs": [],
   "source": []
  },
  {
   "cell_type": "code",
   "execution_count": 17,
   "metadata": {},
   "outputs": [
    {
     "data": {
      "text/plain": [
       "__main__.TiendaOnline"
      ]
     },
     "execution_count": 17,
     "metadata": {},
     "output_type": "execute_result"
    }
   ],
   "source": [
    "TiendaOnline"
   ]
  },
  {
   "cell_type": "code",
   "execution_count": 18,
   "metadata": {},
   "outputs": [],
   "source": [
    "gatos_galacticos = TiendaOnline()"
   ]
  },
  {
   "cell_type": "code",
   "execution_count": 19,
   "metadata": {},
   "outputs": [
    {
     "data": {
      "text/plain": [
       "[]"
      ]
     },
     "execution_count": 19,
     "metadata": {},
     "output_type": "execute_result"
    }
   ],
   "source": [
    "gatos_galacticos.inventario"
   ]
  },
  {
   "cell_type": "code",
   "execution_count": 20,
   "metadata": {},
   "outputs": [
    {
     "data": {
      "text/plain": [
       "[{'Nombre': 'Pienso', 'Precio': 1, 'Cantidad': 3}]"
      ]
     },
     "execution_count": 20,
     "metadata": {},
     "output_type": "execute_result"
    }
   ],
   "source": [
    "gatos_galacticos.agregar_producto('Pienso',1,3)"
   ]
  },
  {
   "cell_type": "code",
   "execution_count": 21,
   "metadata": {},
   "outputs": [
    {
     "data": {
      "text/plain": [
       "[{'Nombre': 'Pienso', 'Precio': 1, 'Cantidad': 3}]"
      ]
     },
     "execution_count": 21,
     "metadata": {},
     "output_type": "execute_result"
    }
   ],
   "source": [
    "gatos_galacticos.inventario"
   ]
  },
  {
   "cell_type": "code",
   "execution_count": 22,
   "metadata": {},
   "outputs": [
    {
     "data": {
      "text/plain": [
       "[{'Nombre': 'Pienso', 'Precio': 1, 'Cantidad': 5}]"
      ]
     },
     "execution_count": 22,
     "metadata": {},
     "output_type": "execute_result"
    }
   ],
   "source": [
    "gatos_galacticos.agregar_producto('Pienso',1,5)"
   ]
  },
  {
   "cell_type": "code",
   "execution_count": 23,
   "metadata": {},
   "outputs": [
    {
     "data": {
      "text/plain": [
       "[{'Nombre': 'Pienso', 'Precio': 1, 'Cantidad': 5},\n",
       " {'Nombre': 'Arena', 'Precio': 5, 'Cantidad': 10}]"
      ]
     },
     "execution_count": 23,
     "metadata": {},
     "output_type": "execute_result"
    }
   ],
   "source": [
    "gatos_galacticos.agregar_producto('Arena',5,10)"
   ]
  },
  {
   "cell_type": "code",
   "execution_count": 24,
   "metadata": {},
   "outputs": [
    {
     "data": {
      "text/plain": [
       "[{'Nombre': 'Pienso', 'Precio': 1, 'Cantidad': 5},\n",
       " {'Nombre': 'Arena', 'Precio': 5, 'Cantidad': 10},\n",
       " {'Nombre': 'Juguete', 'Precio': 10, 'Cantidad': 3}]"
      ]
     },
     "execution_count": 24,
     "metadata": {},
     "output_type": "execute_result"
    }
   ],
   "source": [
    "gatos_galacticos.agregar_producto('Juguete',10,3)"
   ]
  },
  {
   "cell_type": "code",
   "execution_count": 33,
   "metadata": {},
   "outputs": [],
   "source": [
    "gatos_galacticos.buscar_producto('pienso')"
   ]
  },
  {
   "cell_type": "code",
   "execution_count": 26,
   "metadata": {},
   "outputs": [],
   "source": [
    "    #agregar_producto(sefl, nombre, precio y cantidad)\n",
    "        #AGREGA producto\n",
    "        #ACTUALIZA su cantidad si el producto ya existe\n",
    "        #ITERA por el inventario y compara NOMBRE con los datos proporcionados\n",
    "            #si el producto existe -> ACTUALIZA CANTIDAD\n",
    "            # si el producto no exite -> AGREGA NUEVO PRODUCTO"
   ]
  },
  {
   "cell_type": "code",
   "execution_count": 27,
   "metadata": {},
   "outputs": [],
   "source": [
    "def agregar_producto(self, nombre, precio, cantidad):\n",
    "    \n",
    "    #si el inventario está vacío, se convierte en diccionario\n",
    "    if not self.inventario:\n",
    "        self.inventario = {}\n",
    "        if nombre in self.inventario:\n",
    "            print(f'El producto {nombre} ya existe en el inventario')\n",
    "            self.inventario.update()\n",
    "        else:\n",
    "            print(f'El producto {nombre} se ha actualizado')\n",
    "\n"
   ]
  },
  {
   "cell_type": "code",
   "execution_count": 28,
   "metadata": {},
   "outputs": [],
   "source": [
    "#ver_inventario(self)\n",
    "        #MUESTRA el inventerio de producto con sus detalles\n",
    "        # BUBLE FOR para iterar por INVENTARIO\n",
    "        # PRINT detalles (nombre, precio, cantidad)"
   ]
  },
  {
   "cell_type": "code",
   "execution_count": 29,
   "metadata": {},
   "outputs": [],
   "source": [
    "def ver_inventario(self):\n",
    "    if not self.inventario:\n",
    "        print('El inventario está vacío')\n",
    "    else:\n",
    "        for x in self.inventario:\n",
    "            print(self.inventario)"
   ]
  },
  {
   "cell_type": "code",
   "execution_count": 30,
   "metadata": {},
   "outputs": [],
   "source": [
    "#buscar_producto(self, nombre)\n",
    "        #muestra inventario por NOMBRE y muestra sus detalles\n",
    "        #DEBE RECIBIR EL NOMBRE DEL PRODUCTO COMO PARÁMETRO \n",
    "        #BUCLE FOR para iterar por INVENTARIO\n",
    "        #compara nombre del producto con el proporcionado\n",
    "        #if producto in invetario = print detalles"
   ]
  },
  {
   "cell_type": "code",
   "execution_count": 31,
   "metadata": {},
   "outputs": [],
   "source": [
    "def buscar_producto(self,nombre):\n",
    "    for nombre in self.inventario:\n",
    "        nombre_producto == nombre \n",
    "        inventario[nombre] ={\n",
    "            'Nombre':nombre,\n",
    "            'Precio':precio,\n",
    "            'Cantidad': cantidad,\n",
    "        }"
   ]
  },
  {
   "cell_type": "code",
   "execution_count": null,
   "metadata": {},
   "outputs": [],
   "source": []
  }
 ],
 "metadata": {
  "kernelspec": {
   "display_name": "Python 3",
   "language": "python",
   "name": "python3"
  },
  "language_info": {
   "codemirror_mode": {
    "name": "ipython",
    "version": 3
   },
   "file_extension": ".py",
   "mimetype": "text/x-python",
   "name": "python",
   "nbconvert_exporter": "python",
   "pygments_lexer": "ipython3",
   "version": "3.9.6"
  }
 },
 "nbformat": 4,
 "nbformat_minor": 2
}
