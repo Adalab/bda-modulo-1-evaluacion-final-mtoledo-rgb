{
 "cells": [
  {
   "cell_type": "code",
   "execution_count": 1,
   "metadata": {},
   "outputs": [],
   "source": [
    "class TiendaOnline:\n",
    "    pass"
   ]
  },
  {
   "cell_type": "code",
   "execution_count": 2,
   "metadata": {},
   "outputs": [],
   "source": [
    "class OnlineStore:\n",
    "    \n",
    "    def __init__(self):\n",
    "        self.inventory = []\n",
    "        self.customers = {}\n",
    "        self.total_sales = 0\n",
    "    \n",
    "    #Add products to the inventory and update the stock quantity   \n",
    "    def add_product(self, name, price, stock):  \n",
    "        for n in self.inventory:\n",
    "            if n['Name'] == name:     # If the product name appears in the inventory \n",
    "                n['Quantity'] = stock  # We leave it and only modify the quantity -a similar variable could also be created for the price if we were interested in modifying that parameter as well-\n",
    "                return self.inventory\n",
    "        self.inventory.append({'Name': name, 'Price': price, 'Quantity': stock})  #Append because, even though we are modifying a dictionary, we are interacting with a list\n",
    "        return self.inventory\n",
    "\n",
    "    # View the inventory or check if the inventory is empty  \n",
    "    def view_inventory(self):\n",
    "        if not self.inventory:   # If the inventory has not been created, it will print a message indicating that it is empty\n",
    "            print(\"The inventory is empty\")\n",
    "        else:\n",
    "            for product in self.inventory:\n",
    "                print(product)\n",
    "\n",
    "    # Search for 'product' by 'name' in the inventory\n",
    "    def search_product(self, name):\n",
    "        for product in self.inventory:\n",
    "            if name.lower() == product['Name'].lower():   # If the name being searched is in the inventory, the product with all its details will be printed. \n",
    "                                                         # This condition is only met if 'name' matches any of the products - \"names\" in the dictionary - with the input\n",
    "                return product \n",
    "        else:\n",
    "            print('The product does not exist')\n",
    "\n",
    "    # Remove products from the inventory\n",
    "    def remove_product(self, name):\n",
    "        for product in self.inventory:\n",
    "            if name.lower() == product['Name'].lower():    # The same loop used to search for a product is utilized\n",
    "                self.inventory.remove(product)                # Except that this time the instruction to remove that product and the dictionary containing it is added\n",
    "                print(f'The product {name} has been removed')    \n",
    "            else:\n",
    "                print('We did not find the product you want to remove')   # I still don't understand why this prints, we will keep learning\n"
   ]
  },
  {
   "cell_type": "code",
   "execution_count": 3,
   "metadata": {},
   "outputs": [
    {
     "data": {
      "text/plain": [
       "__main__.OnlineStore"
      ]
     },
     "execution_count": 3,
     "metadata": {},
     "output_type": "execute_result"
    }
   ],
   "source": [
    "OnlineStore"
   ]
  },
  {
   "cell_type": "code",
   "execution_count": 4,
   "metadata": {},
   "outputs": [],
   "source": [
    "galactic_cats = OnlineStore()"
   ]
  },
  {
   "cell_type": "code",
   "execution_count": 5,
   "metadata": {},
   "outputs": [
    {
     "data": {
      "text/plain": [
       "[{'Name': 'Food', 'Price': 10, 'Quantity': 25},\n",
       " {'Name': 'Litter', 'Price': 6, 'Quantity': 30},\n",
       " {'Name': 'Mouse', 'Price': 5, 'Quantity': 7}]"
      ]
     },
     "execution_count": 5,
     "metadata": {},
     "output_type": "execute_result"
    }
   ],
   "source": [
    "galactic_cats.add_product('Food',10,25)\n",
    "galactic_cats.add_product('Litter',6,30)\n",
    "galactic_cats.add_product('Mouse',5,7)"
   ]
  },
  {
   "cell_type": "code",
   "execution_count": 6,
   "metadata": {},
   "outputs": [
    {
     "name": "stdout",
     "output_type": "stream",
     "text": [
      "{'Name': 'Food', 'Price': 10, 'Quantity': 25}\n",
      "{'Name': 'Litter', 'Price': 6, 'Quantity': 30}\n",
      "{'Name': 'Mouse', 'Price': 5, 'Quantity': 7}\n"
     ]
    }
   ],
   "source": [
    "galactic_cats.view_inventory()"
   ]
  },
  {
   "cell_type": "code",
   "execution_count": 7,
   "metadata": {},
   "outputs": [
    {
     "name": "stdout",
     "output_type": "stream",
     "text": [
      "The product does not exist\n"
     ]
    }
   ],
   "source": [
    "galactic_cats.search_product('toy')"
   ]
  },
  {
   "cell_type": "code",
   "execution_count": 8,
   "metadata": {},
   "outputs": [
    {
     "data": {
      "text/plain": [
       "{'Name': 'Litter', 'Price': 6, 'Quantity': 30}"
      ]
     },
     "execution_count": 8,
     "metadata": {},
     "output_type": "execute_result"
    }
   ],
   "source": [
    "galactic_cats.search_product('litter')"
   ]
  },
  {
   "cell_type": "code",
   "execution_count": 9,
   "metadata": {},
   "outputs": [
    {
     "name": "stdout",
     "output_type": "stream",
     "text": [
      "We did not find the product you want to remove\n",
      "The product litter has been removed\n"
     ]
    }
   ],
   "source": [
    "galactic_cats.remove_product('litter')"
   ]
  },
  {
   "cell_type": "code",
   "execution_count": null,
   "metadata": {},
   "outputs": [],
   "source": []
  }
 ],
 "metadata": {
  "kernelspec": {
   "display_name": "Python 3",
   "language": "python",
   "name": "python3"
  },
  "language_info": {
   "codemirror_mode": {
    "name": "ipython",
    "version": 3
   },
   "file_extension": ".py",
   "mimetype": "text/x-python",
   "name": "python",
   "nbconvert_exporter": "python",
   "pygments_lexer": "ipython3",
   "version": "3.9.6"
  }
 },
 "nbformat": 4,
 "nbformat_minor": 2
}
